{
  "nbformat": 4,
  "nbformat_minor": 0,
  "metadata": {
    "colab": {
      "provenance": []
    },
    "kernelspec": {
      "name": "python3",
      "display_name": "Python 3"
    },
    "language_info": {
      "name": "python"
    }
  },
  "cells": [
    {
      "cell_type": "markdown",
      "source": [
        "# Settings\n",
        "\"pip install Pyfhel\" takes about 6mins on colab.\n",
        "\n",
        "Python must have been compiled with C++17: g++>=6 | MSVC 2017+."
      ],
      "metadata": {
        "id": "6Kqw-OmhR5mQ"
      }
    },
    {
      "cell_type": "code",
      "source": [
        "!pip install Pyfhel"
      ],
      "metadata": {
        "id": "BRj3Hj7T5K5E",
        "colab": {
          "base_uri": "https://localhost:8080/"
        },
        "outputId": "77fb30d9-6c43-4114-c7ef-0911dc112359"
      },
      "execution_count": null,
      "outputs": [
        {
          "output_type": "stream",
          "name": "stdout",
          "text": [
            "Requirement already satisfied: Pyfhel in /usr/local/lib/python3.10/dist-packages (3.4.2)\n",
            "Requirement already satisfied: numpy>=1.21 in /usr/local/lib/python3.10/dist-packages (from Pyfhel) (1.25.2)\n"
          ]
        }
      ]
    },
    {
      "cell_type": "code",
      "source": [
        "import numpy as np\n",
        "from Pyfhel import Pyfhel"
      ],
      "metadata": {
        "id": "nfRhM5O85N3z"
      },
      "execution_count": null,
      "outputs": []
    },
    {
      "cell_type": "code",
      "source": [
        "_r = lambda x: np.round(x, decimals=5)\n",
        "float2ptxt = lambda x: HE.encodeFrac(np.array([x], dtype=np.float64))\n",
        "float2ctxt = lambda x: HE.encryptFrac(np.array([x], dtype=np.float64))\n",
        "ctxt2float = lambda x: HE.decryptFrac(x)[0]"
      ],
      "metadata": {
        "id": "wrSETerceF2L"
      },
      "execution_count": null,
      "outputs": []
    },
    {
      "cell_type": "markdown",
      "source": [
        "# Setup (change coordinates here)\n",
        "Server won't have access to plaintext client coordinate.\n",
        "\n",
        "Client also won't have access to plaintext geofence coordinates."
      ],
      "metadata": {
        "id": "7RkpWNP4od8I"
      }
    },
    {
      "cell_type": "code",
      "source": [
        "client_lat = 24.88\n",
        "client_long = 181.7"
      ],
      "metadata": {
        "id": "Bp_qBY9N499Q"
      },
      "execution_count": null,
      "outputs": []
    },
    {
      "cell_type": "code",
      "source": [
        "geofence_top = 24.89\n",
        "geofence_down = 24.87\n",
        "geofence_right = 181.9\n",
        "geofence_left = 181.0"
      ],
      "metadata": {
        "id": "UYS0pXRBTkcS"
      },
      "execution_count": null,
      "outputs": []
    },
    {
      "cell_type": "code",
      "source": [
        "client_lat *= 100\n",
        "client_long *= 100"
      ],
      "metadata": {
        "id": "Xf6hd8kx2BOc"
      },
      "execution_count": null,
      "outputs": []
    },
    {
      "cell_type": "code",
      "source": [
        "geofence_top *= 100\n",
        "geofence_down *= 100\n",
        "geofence_right *= 100\n",
        "geofence_left *= 100"
      ],
      "metadata": {
        "id": "BExXh6Ms2Gmi"
      },
      "execution_count": null,
      "outputs": []
    },
    {
      "cell_type": "markdown",
      "source": [
        "# Client Side\n",
        "Client specifies CKKS homomorphic encryption parameters. And encrypts its coordinate then send to server."
      ],
      "metadata": {
        "id": "22G5yUrWRycg"
      }
    },
    {
      "cell_type": "code",
      "source": [
        "# client side\n",
        "HE = Pyfhel()\n",
        "ckks_params = {\n",
        "    'scheme': 'CKKS',\n",
        "    'n': 2**14,\n",
        "    'scale': 2**50,\n",
        "    'qi_sizes': [60, 50, 50, 50, 60]\n",
        "}\n",
        "HE.contextGen(**ckks_params)\n",
        "\n",
        "HE.keyGen()\n",
        "HE.relinKeyGen()\n",
        "# HE.rotateKeyGen()"
      ],
      "metadata": {
        "id": "X4rCG4cU5GYL"
      },
      "execution_count": null,
      "outputs": []
    },
    {
      "cell_type": "code",
      "source": [
        "client_lat_ctxt = float2ctxt(client_lat)\n",
        "client_long_ctxt = float2ctxt(client_long)\n",
        "\n",
        "print(client_lat_ctxt, client_long_ctxt)"
      ],
      "metadata": {
        "colab": {
          "base_uri": "https://localhost:8080/"
        },
        "id": "8u8boBpjZiNw",
        "outputId": "43f8335f-a266-4446-aa6c-bd821cc163fd"
      },
      "execution_count": null,
      "outputs": [
        {
          "output_type": "stream",
          "name": "stdout",
          "text": [
            "<Pyfhel Ciphertext at 0x7e65287262f0, scheme=ckks, size=2/2, scale_bits=50, mod_level=0> <Pyfhel Ciphertext at 0x7e6528725f80, scheme=ckks, size=2/2, scale_bits=50, mod_level=0>\n"
          ]
        }
      ]
    },
    {
      "cell_type": "markdown",
      "source": [
        "# Server Side\n",
        "\n",
        "***RECEIVED HE ENCRYPTED COORDINATE FROM CLIENT***\n",
        "\n",
        "Server calculates the intermediate result with encrypted client coordinate and geofence coordinates. Server then send obfuscated intermediate results with some additonal data(to check the integrity of the reply from client) to client."
      ],
      "metadata": {
        "id": "OVCkPIYpTigW"
      }
    },
    {
      "cell_type": "code",
      "source": [
        "geofence_top_ptxt = float2ptxt(geofence_top)\n",
        "geofence_down_ptxt = float2ptxt(geofence_down)\n",
        "geofence_right_ptxt = float2ptxt(geofence_right)\n",
        "geofence_left_ptxt = float2ptxt(geofence_left)"
      ],
      "metadata": {
        "id": "wDAMb5i7bqIV"
      },
      "execution_count": null,
      "outputs": []
    },
    {
      "cell_type": "code",
      "source": [
        "a = -(client_lat_ctxt-geofence_top_ptxt)\n",
        "b = client_lat_ctxt-geofence_down_ptxt\n",
        "c = -(client_long_ctxt-geofence_right_ptxt)\n",
        "d = client_long_ctxt-geofence_left_ptxt"
      ],
      "metadata": {
        "id": "E5kJ0vbzae0f"
      },
      "execution_count": null,
      "outputs": []
    },
    {
      "cell_type": "code",
      "source": [
        "mul = lambda x, y: HE.align_mod_n_scale(~(x*y), a)[0]"
      ],
      "metadata": {
        "id": "twNGku3hyvpk"
      },
      "execution_count": null,
      "outputs": []
    },
    {
      "cell_type": "code",
      "source": [
        "# compute the ciphertext for each combination\n",
        "# doing this way is two minimize the mod_level\n",
        "# combination x: binary string of x maps to the existence of a, b, c, d\n",
        "# example: 11 -> 1011 -> a*c*d\n",
        "\n",
        "one = float2ctxt(1)\n",
        "ab = mul(a, b)\n",
        "ac = mul(a, c)\n",
        "ad = mul(a, d)\n",
        "bc = mul(b, c)\n",
        "bd = mul(b, d)\n",
        "cd = mul(c, d)\n",
        "\n",
        "all_combinations = [\n",
        "    # 0000 0001 0010 0011 0100 0101 0110 0111\n",
        "    one, d, c, cd, b, bd, bc, mul(bc, d),\n",
        "    # 1000, 1001, 1010, 1011, 1100, 1101, 1110, 1111\n",
        "    a, ad, ac, mul(ac, d), ab, mul(ab, d), mul(ab, c), mul(ab, cd)\n",
        "]\n",
        "print(all_combinations)"
      ],
      "metadata": {
        "id": "Cc1jMoULrMWX",
        "colab": {
          "base_uri": "https://localhost:8080/"
        },
        "outputId": "07ba8680-f45b-4f9b-8b39-9f41a884ce10"
      },
      "execution_count": null,
      "outputs": [
        {
          "output_type": "stream",
          "name": "stdout",
          "text": [
            "[<Pyfhel Ciphertext at 0x7e652b0fb2e0, scheme=ckks, size=2/2, scale_bits=50, mod_level=0>, <Pyfhel Ciphertext at 0x7e6528727e20, scheme=ckks, size=2/2, scale_bits=50, mod_level=0>, <Pyfhel Ciphertext at 0x7e6528727ce0, scheme=ckks, size=2/2, scale_bits=50, mod_level=0>, <Pyfhel Ciphertext at 0x7e65287cb470, scheme=ckks, size=2/2, scale_bits=50, mod_level=1>, <Pyfhel Ciphertext at 0x7e652b0fa980, scheme=ckks, size=2/2, scale_bits=50, mod_level=0>, <Pyfhel Ciphertext at 0x7e6544869210, scheme=ckks, size=2/2, scale_bits=50, mod_level=1>, <Pyfhel Ciphertext at 0x7e65287cb420, scheme=ckks, size=2/2, scale_bits=50, mod_level=1>, <Pyfhel Ciphertext at 0x7e65287cb3d0, scheme=ckks, size=2/3, scale_bits=50, mod_level=2>, <Pyfhel Ciphertext at 0x7e652873d670, scheme=ckks, size=2/2, scale_bits=50, mod_level=0>, <Pyfhel Ciphertext at 0x7e65287cb380, scheme=ckks, size=2/2, scale_bits=50, mod_level=1>, <Pyfhel Ciphertext at 0x7e65287269d0, scheme=ckks, size=2/2, scale_bits=50, mod_level=1>, <Pyfhel Ciphertext at 0x7e65287253a0, scheme=ckks, size=2/3, scale_bits=50, mod_level=2>, <Pyfhel Ciphertext at 0x7e65287cb330, scheme=ckks, size=2/2, scale_bits=50, mod_level=1>, <Pyfhel Ciphertext at 0x7e652873d8f0, scheme=ckks, size=2/3, scale_bits=50, mod_level=2>, <Pyfhel Ciphertext at 0x7e65287cb4c0, scheme=ckks, size=2/3, scale_bits=50, mod_level=2>, <Pyfhel Ciphertext at 0x7e65287cb510, scheme=ckks, size=2/3, scale_bits=50, mod_level=2>]\n"
          ]
        }
      ]
    },
    {
      "cell_type": "code",
      "source": [
        "def append_message(message, message_combination, message_random_value, all_combinations, new_entry_combination):\n",
        "  \"\"\"\n",
        "  function for adding an entry to the message that will be sent to client\n",
        "  :param message: the message that will be sent to client, list of ciphertexts\n",
        "  :param message_combination: list of integers, represent the combination of a, b, c, d of each message entry\n",
        "  :param message_random_value: list of floats, represent the random value that is multiplied to each message entry\n",
        "  :param all_combinations: list of ciphertexts, that map the combination index to ciphertext\n",
        "  :param new_entry_combination: integer, represent the index of the combination for the new message entry\n",
        "  :return: nothing, changes will be made to message, message_combination, message_random_value these three list\n",
        "  \"\"\"\n",
        "  random_value = np.random.uniform(0.9,-0.9)\n",
        "  # make random value in range [1, 0.1] or [-0.1, -1]\n",
        "  # else the value may become too smal affecting the precision\n",
        "  if 0.1>random_value>=0:\n",
        "    random_value += 0.9\n",
        "  elif 0>random_value>-0.1:\n",
        "    random_value -= 0.9\n",
        "  message_random_value.append(random_value)\n",
        "  message_combination.append(new_entry_combination)\n",
        "  random_ptxt = float2ptxt(random_value)\n",
        "  message_ctxt = mul(all_combinations[new_entry_combination], random_ptxt)\n",
        "  message.append(message_ctxt)\n",
        "  return"
      ],
      "metadata": {
        "id": "mpcqE_oxvFW2"
      },
      "execution_count": null,
      "outputs": []
    },
    {
      "cell_type": "code",
      "source": [
        "message = []\n",
        "message_combination = []\n",
        "message_random_value = []\n",
        "\n",
        "# a\n",
        "append_message(message, message_combination, message_random_value, all_combinations, 8)\n",
        "\n",
        "# b\n",
        "append_message(message, message_combination, message_random_value, all_combinations, 4)\n",
        "\n",
        "# c\n",
        "append_message(message, message_combination, message_random_value, all_combinations, 2)\n",
        "\n",
        "# d\n",
        "append_message(message, message_combination, message_random_value, all_combinations, 1)\n",
        "\n",
        "for i in range(128):\n",
        "  new_entry_combination = np.random.randint(16)\n",
        "  append_message(message, message_combination, message_random_value, all_combinations, new_entry_combination)\n",
        "\n",
        "print(message)\n",
        "print(message_combination)\n",
        "print(message_random_value)"
      ],
      "metadata": {
        "colab": {
          "base_uri": "https://localhost:8080/"
        },
        "id": "X-vkMrOKq4dP",
        "outputId": "6e38c05c-a1b9-4280-f19b-b5a6bfac8aed"
      },
      "execution_count": null,
      "outputs": [
        {
          "output_type": "stream",
          "name": "stdout",
          "text": [
            "[<Pyfhel Ciphertext at 0x7e65287cbe20, scheme=ckks, size=2/2, scale_bits=50, mod_level=1>, <Pyfhel Ciphertext at 0x7e652b0fbab0, scheme=ckks, size=2/2, scale_bits=50, mod_level=1>, <Pyfhel Ciphertext at 0x7e65287cbe70, scheme=ckks, size=2/2, scale_bits=50, mod_level=1>, <Pyfhel Ciphertext at 0x7e652873d800, scheme=ckks, size=2/2, scale_bits=50, mod_level=1>, <Pyfhel Ciphertext at 0x7e652871f740, scheme=ckks, size=2/2, scale_bits=50, mod_level=1>, <Pyfhel Ciphertext at 0x7e654486a840, scheme=ckks, size=2/3, scale_bits=50, mod_level=2>, <Pyfhel Ciphertext at 0x7e652be29b20, scheme=ckks, size=2/2, scale_bits=50, mod_level=1>, <Pyfhel Ciphertext at 0x7e652873c6d0, scheme=ckks, size=2/2, scale_bits=50, mod_level=1>, <Pyfhel Ciphertext at 0x7e652873ccc0, scheme=ckks, size=2/4, scale_bits=50, mod_level=3>, <Pyfhel Ciphertext at 0x7e652873de90, scheme=ckks, size=2/2, scale_bits=50, mod_level=1>, <Pyfhel Ciphertext at 0x7e65287246d0, scheme=ckks, size=2/4, scale_bits=50, mod_level=3>, <Pyfhel Ciphertext at 0x7e652873dd50, scheme=ckks, size=2/3, scale_bits=50, mod_level=2>, <Pyfhel Ciphertext at 0x7e652b0fb240, scheme=ckks, size=2/2, scale_bits=50, mod_level=1>, <Pyfhel Ciphertext at 0x7e65287cbf60, scheme=ckks, size=2/3, scale_bits=50, mod_level=2>, <Pyfhel Ciphertext at 0x7e65287cbec0, scheme=ckks, size=2/3, scale_bits=50, mod_level=2>, <Pyfhel Ciphertext at 0x7e65287cbf10, scheme=ckks, size=2/2, scale_bits=50, mod_level=1>, <Pyfhel Ciphertext at 0x7e6528735f30, scheme=ckks, size=2/2, scale_bits=50, mod_level=1>, <Pyfhel Ciphertext at 0x7e653c488900, scheme=ckks, size=2/4, scale_bits=50, mod_level=3>, <Pyfhel Ciphertext at 0x7e6538b99cb0, scheme=ckks, size=2/2, scale_bits=50, mod_level=1>, <Pyfhel Ciphertext at 0x7e65287cbfb0, scheme=ckks, size=2/2, scale_bits=50, mod_level=1>, <Pyfhel Ciphertext at 0x7e652befd800, scheme=ckks, size=2/4, scale_bits=50, mod_level=3>, <Pyfhel Ciphertext at 0x7e652bef3ec0, scheme=ckks, size=2/3, scale_bits=50, mod_level=2>, <Pyfhel Ciphertext at 0x7e652b0b3d80, scheme=ckks, size=2/2, scale_bits=50, mod_level=1>, <Pyfhel Ciphertext at 0x7e652befd940, scheme=ckks, size=2/2, scale_bits=50, mod_level=1>, <Pyfhel Ciphertext at 0x7e652b0b3dd0, scheme=ckks, size=2/2, scale_bits=50, mod_level=1>, <Pyfhel Ciphertext at 0x7e6528734040, scheme=ckks, size=2/3, scale_bits=50, mod_level=2>, <Pyfhel Ciphertext at 0x7e65287340e0, scheme=ckks, size=2/4, scale_bits=50, mod_level=3>, <Pyfhel Ciphertext at 0x7e652b0fbd80, scheme=ckks, size=2/2, scale_bits=50, mod_level=1>, <Pyfhel Ciphertext at 0x7e6528734130, scheme=ckks, size=2/3, scale_bits=50, mod_level=2>, <Pyfhel Ciphertext at 0x7e6528734180, scheme=ckks, size=2/2, scale_bits=50, mod_level=1>, <Pyfhel Ciphertext at 0x7e65287341d0, scheme=ckks, size=2/2, scale_bits=50, mod_level=1>, <Pyfhel Ciphertext at 0x7e6528734220, scheme=ckks, size=2/2, scale_bits=50, mod_level=1>, <Pyfhel Ciphertext at 0x7e6528734270, scheme=ckks, size=2/3, scale_bits=50, mod_level=2>, <Pyfhel Ciphertext at 0x7e6528734310, scheme=ckks, size=2/2, scale_bits=50, mod_level=1>, <Pyfhel Ciphertext at 0x7e6528734360, scheme=ckks, size=2/3, scale_bits=50, mod_level=2>, <Pyfhel Ciphertext at 0x7e65287342c0, scheme=ckks, size=2/2, scale_bits=50, mod_level=1>, <Pyfhel Ciphertext at 0x7e65287343b0, scheme=ckks, size=2/3, scale_bits=50, mod_level=2>, <Pyfhel Ciphertext at 0x7e6528734400, scheme=ckks, size=2/3, scale_bits=50, mod_level=2>, <Pyfhel Ciphertext at 0x7e6528734450, scheme=ckks, size=2/3, scale_bits=50, mod_level=2>, <Pyfhel Ciphertext at 0x7e65287344a0, scheme=ckks, size=2/2, scale_bits=50, mod_level=1>, <Pyfhel Ciphertext at 0x7e65287344f0, scheme=ckks, size=2/3, scale_bits=50, mod_level=2>, <Pyfhel Ciphertext at 0x7e6528734540, scheme=ckks, size=2/2, scale_bits=50, mod_level=1>, <Pyfhel Ciphertext at 0x7e6528734590, scheme=ckks, size=2/3, scale_bits=50, mod_level=2>, <Pyfhel Ciphertext at 0x7e65287345e0, scheme=ckks, size=2/3, scale_bits=50, mod_level=2>, <Pyfhel Ciphertext at 0x7e6528734630, scheme=ckks, size=2/2, scale_bits=50, mod_level=1>, <Pyfhel Ciphertext at 0x7e6528734680, scheme=ckks, size=2/2, scale_bits=50, mod_level=1>, <Pyfhel Ciphertext at 0x7e6528734720, scheme=ckks, size=2/3, scale_bits=50, mod_level=2>, <Pyfhel Ciphertext at 0x7e6528734770, scheme=ckks, size=2/2, scale_bits=50, mod_level=1>, <Pyfhel Ciphertext at 0x7e65287346d0, scheme=ckks, size=2/2, scale_bits=50, mod_level=1>, <Pyfhel Ciphertext at 0x7e65287347c0, scheme=ckks, size=2/4, scale_bits=50, mod_level=3>, <Pyfhel Ciphertext at 0x7e6528734a90, scheme=ckks, size=2/2, scale_bits=50, mod_level=1>, <Pyfhel Ciphertext at 0x7e6528734860, scheme=ckks, size=2/4, scale_bits=50, mod_level=3>, <Pyfhel Ciphertext at 0x7e6528734b30, scheme=ckks, size=2/2, scale_bits=50, mod_level=1>, <Pyfhel Ciphertext at 0x7e6528734bd0, scheme=ckks, size=2/4, scale_bits=50, mod_level=3>, <Pyfhel Ciphertext at 0x7e6528736200, scheme=ckks, size=2/3, scale_bits=50, mod_level=2>, <Pyfhel Ciphertext at 0x7e6528734b80, scheme=ckks, size=2/2, scale_bits=50, mod_level=1>, <Pyfhel Ciphertext at 0x7e6528734ae0, scheme=ckks, size=2/2, scale_bits=50, mod_level=1>, <Pyfhel Ciphertext at 0x7e652b0fb8d0, scheme=ckks, size=2/4, scale_bits=50, mod_level=3>, <Pyfhel Ciphertext at 0x7e6528734c20, scheme=ckks, size=2/2, scale_bits=50, mod_level=1>, <Pyfhel Ciphertext at 0x7e6528734d10, scheme=ckks, size=2/2, scale_bits=50, mod_level=1>, <Pyfhel Ciphertext at 0x7e6528734cc0, scheme=ckks, size=2/4, scale_bits=50, mod_level=3>, <Pyfhel Ciphertext at 0x7e6528737e20, scheme=ckks, size=2/3, scale_bits=50, mod_level=2>, <Pyfhel Ciphertext at 0x7e6528734d60, scheme=ckks, size=2/3, scale_bits=50, mod_level=2>, <Pyfhel Ciphertext at 0x7e6528736480, scheme=ckks, size=2/3, scale_bits=50, mod_level=2>, <Pyfhel Ciphertext at 0x7e65287349a0, scheme=ckks, size=2/2, scale_bits=50, mod_level=1>, <Pyfhel Ciphertext at 0x7e6528734db0, scheme=ckks, size=2/3, scale_bits=50, mod_level=2>, <Pyfhel Ciphertext at 0x7e65381a4950, scheme=ckks, size=2/3, scale_bits=50, mod_level=2>, <Pyfhel Ciphertext at 0x7e65287349f0, scheme=ckks, size=2/4, scale_bits=50, mod_level=3>, <Pyfhel Ciphertext at 0x7e65287348b0, scheme=ckks, size=2/3, scale_bits=50, mod_level=2>, <Pyfhel Ciphertext at 0x7e6528734ef0, scheme=ckks, size=2/2, scale_bits=50, mod_level=1>, <Pyfhel Ciphertext at 0x7e6528734f90, scheme=ckks, size=2/4, scale_bits=50, mod_level=3>, <Pyfhel Ciphertext at 0x7e6528734f40, scheme=ckks, size=2/2, scale_bits=50, mod_level=1>, <Pyfhel Ciphertext at 0x7e6528734e00, scheme=ckks, size=2/3, scale_bits=50, mod_level=2>, <Pyfhel Ciphertext at 0x7e6528735080, scheme=ckks, size=2/3, scale_bits=50, mod_level=2>, <Pyfhel Ciphertext at 0x7e6528735030, scheme=ckks, size=2/3, scale_bits=50, mod_level=2>, <Pyfhel Ciphertext at 0x7e6528735210, scheme=ckks, size=2/3, scale_bits=50, mod_level=2>, <Pyfhel Ciphertext at 0x7e6528734fe0, scheme=ckks, size=2/3, scale_bits=50, mod_level=2>, <Pyfhel Ciphertext at 0x7e6528735260, scheme=ckks, size=2/4, scale_bits=50, mod_level=3>, <Pyfhel Ciphertext at 0x7e6528737330, scheme=ckks, size=2/4, scale_bits=50, mod_level=3>, <Pyfhel Ciphertext at 0x7e6528735ee0, scheme=ckks, size=2/4, scale_bits=50, mod_level=3>, <Pyfhel Ciphertext at 0x7e6528735170, scheme=ckks, size=2/2, scale_bits=50, mod_level=1>, <Pyfhel Ciphertext at 0x7e65287350d0, scheme=ckks, size=2/4, scale_bits=50, mod_level=3>, <Pyfhel Ciphertext at 0x7e65287cb1f0, scheme=ckks, size=2/3, scale_bits=50, mod_level=2>, <Pyfhel Ciphertext at 0x7e6543597600, scheme=ckks, size=2/3, scale_bits=50, mod_level=2>, <Pyfhel Ciphertext at 0x7e65287352b0, scheme=ckks, size=2/4, scale_bits=50, mod_level=3>, <Pyfhel Ciphertext at 0x7e6528735530, scheme=ckks, size=2/4, scale_bits=50, mod_level=3>, <Pyfhel Ciphertext at 0x7e65287369d0, scheme=ckks, size=2/4, scale_bits=50, mod_level=3>, <Pyfhel Ciphertext at 0x7e65287353f0, scheme=ckks, size=2/3, scale_bits=50, mod_level=2>, <Pyfhel Ciphertext at 0x7e6528735580, scheme=ckks, size=2/2, scale_bits=50, mod_level=1>, <Pyfhel Ciphertext at 0x7e6528735350, scheme=ckks, size=2/2, scale_bits=50, mod_level=1>, <Pyfhel Ciphertext at 0x7e6528735490, scheme=ckks, size=2/2, scale_bits=50, mod_level=1>, <Pyfhel Ciphertext at 0x7e65287362f0, scheme=ckks, size=2/2, scale_bits=50, mod_level=1>, <Pyfhel Ciphertext at 0x7e65287353a0, scheme=ckks, size=2/3, scale_bits=50, mod_level=2>, <Pyfhel Ciphertext at 0x7e6528735800, scheme=ckks, size=2/4, scale_bits=50, mod_level=3>, <Pyfhel Ciphertext at 0x7e6528735760, scheme=ckks, size=2/2, scale_bits=50, mod_level=1>, <Pyfhel Ciphertext at 0x7e6528735670, scheme=ckks, size=2/3, scale_bits=50, mod_level=2>, <Pyfhel Ciphertext at 0x7e65287355d0, scheme=ckks, size=2/4, scale_bits=50, mod_level=3>, <Pyfhel Ciphertext at 0x7e65287357b0, scheme=ckks, size=2/3, scale_bits=50, mod_level=2>, <Pyfhel Ciphertext at 0x7e6528735990, scheme=ckks, size=2/3, scale_bits=50, mod_level=2>, <Pyfhel Ciphertext at 0x7e6528735940, scheme=ckks, size=2/2, scale_bits=50, mod_level=1>, <Pyfhel Ciphertext at 0x7e65287359e0, scheme=ckks, size=2/3, scale_bits=50, mod_level=2>, <Pyfhel Ciphertext at 0x7e6528735850, scheme=ckks, size=2/3, scale_bits=50, mod_level=2>, <Pyfhel Ciphertext at 0x7e65287358a0, scheme=ckks, size=2/4, scale_bits=50, mod_level=3>, <Pyfhel Ciphertext at 0x7e6528735ad0, scheme=ckks, size=2/4, scale_bits=50, mod_level=3>, <Pyfhel Ciphertext at 0x7e6528735a30, scheme=ckks, size=2/4, scale_bits=50, mod_level=3>, <Pyfhel Ciphertext at 0x7e6528735bc0, scheme=ckks, size=2/3, scale_bits=50, mod_level=2>, <Pyfhel Ciphertext at 0x7e6528735b20, scheme=ckks, size=2/2, scale_bits=50, mod_level=1>, <Pyfhel Ciphertext at 0x7e6528735c10, scheme=ckks, size=2/4, scale_bits=50, mod_level=3>, <Pyfhel Ciphertext at 0x7e65287358f0, scheme=ckks, size=2/4, scale_bits=50, mod_level=3>, <Pyfhel Ciphertext at 0x7e6528735b70, scheme=ckks, size=2/3, scale_bits=50, mod_level=2>, <Pyfhel Ciphertext at 0x7e6528735da0, scheme=ckks, size=2/2, scale_bits=50, mod_level=1>, <Pyfhel Ciphertext at 0x7e6528735c60, scheme=ckks, size=2/4, scale_bits=50, mod_level=3>, <Pyfhel Ciphertext at 0x7e6528735d00, scheme=ckks, size=2/3, scale_bits=50, mod_level=2>, <Pyfhel Ciphertext at 0x7e6528735df0, scheme=ckks, size=2/3, scale_bits=50, mod_level=2>, <Pyfhel Ciphertext at 0x7e6528735e90, scheme=ckks, size=2/3, scale_bits=50, mod_level=2>, <Pyfhel Ciphertext at 0x7e6528737380, scheme=ckks, size=2/2, scale_bits=50, mod_level=1>, <Pyfhel Ciphertext at 0x7e6528735e40, scheme=ckks, size=2/3, scale_bits=50, mod_level=2>, <Pyfhel Ciphertext at 0x7e65287cb560, scheme=ckks, size=2/3, scale_bits=50, mod_level=2>, <Pyfhel Ciphertext at 0x7e652bec4c70, scheme=ckks, size=2/2, scale_bits=50, mod_level=1>, <Pyfhel Ciphertext at 0x7e652bec4bd0, scheme=ckks, size=2/2, scale_bits=50, mod_level=1>, <Pyfhel Ciphertext at 0x7e652bec5e90, scheme=ckks, size=2/4, scale_bits=50, mod_level=3>, <Pyfhel Ciphertext at 0x7e652bec7e70, scheme=ckks, size=2/3, scale_bits=50, mod_level=2>, <Pyfhel Ciphertext at 0x7e652bec7bf0, scheme=ckks, size=2/3, scale_bits=50, mod_level=2>, <Pyfhel Ciphertext at 0x7e652bec5080, scheme=ckks, size=2/3, scale_bits=50, mod_level=2>, <Pyfhel Ciphertext at 0x7e652bec5440, scheme=ckks, size=2/3, scale_bits=50, mod_level=2>, <Pyfhel Ciphertext at 0x7e65287356c0, scheme=ckks, size=2/3, scale_bits=50, mod_level=2>, <Pyfhel Ciphertext at 0x7e652871f0b0, scheme=ckks, size=2/2, scale_bits=50, mod_level=1>, <Pyfhel Ciphertext at 0x7e652871d940, scheme=ckks, size=2/3, scale_bits=50, mod_level=2>, <Pyfhel Ciphertext at 0x7e652871df80, scheme=ckks, size=2/2, scale_bits=50, mod_level=1>, <Pyfhel Ciphertext at 0x7e652871f6f0, scheme=ckks, size=2/4, scale_bits=50, mod_level=3>, <Pyfhel Ciphertext at 0x7e652871cea0, scheme=ckks, size=2/4, scale_bits=50, mod_level=3>, <Pyfhel Ciphertext at 0x7e652871e160, scheme=ckks, size=2/2, scale_bits=50, mod_level=1>]\n",
            "[8, 4, 2, 1, 2, 3, 8, 2, 13, 2, 15, 12, 0, 5, 9, 4, 1, 14, 0, 8, 14, 5, 8, 2, 2, 9, 11, 4, 10, 1, 4, 0, 5, 4, 6, 2, 5, 6, 12, 2, 6, 1, 6, 10, 4, 2, 3, 8, 0, 13, 1, 7, 4, 15, 10, 8, 1, 11, 4, 8, 13, 3, 12, 5, 0, 10, 9, 7, 6, 8, 7, 2, 12, 6, 5, 3, 12, 14, 15, 7, 2, 14, 5, 5, 7, 14, 14, 5, 4, 8, 8, 1, 3, 13, 2, 9, 14, 9, 12, 4, 6, 9, 14, 15, 15, 10, 0, 7, 11, 6, 0, 7, 10, 5, 10, 4, 5, 5, 2, 0, 7, 10, 12, 5, 9, 6, 2, 12, 2, 7, 13, 8]\n",
            "[-0.8721983321210257, 0.45913879306977656, 0.7146294570265637, -0.7635724687687494, -0.4180623942227931, -0.9870544483368072, -0.5702849419127883, -0.23151549059738052, -0.6362281998545921, 0.37883481854884216, -0.40834820797901183, -0.3306962605270557, 0.9681753679968987, 0.571169484895499, 0.7372006653775252, 0.19728921069767957, -0.21501589230275997, 0.3393903831036804, 0.8987352346892652, -0.7798378112851162, -0.8170756232965221, -0.8358708154376532, -0.710973201562887, -0.4718062950094727, -0.9050397393793608, -0.4035954575684991, -0.36519765186331565, 0.2102374342053941, 0.9001251860744551, 0.591558957206482, -0.2998292952002325, -0.10265562788601279, 0.18124164241877783, 0.9345933559324073, 0.8433245546584178, 0.9001500526753003, -0.9407735445329067, 0.4765005154679355, 0.5568642284972862, -0.8139231568047866, 0.5796552830271114, -0.1665770839803481, 0.9505560745313356, -0.9291163511725028, 0.715158812795537, -0.819589335784579, -0.7275269455518142, -0.44152385810972283, 0.7122932766407079, -0.36285618038406586, -0.45718870047675664, -0.43869520727735034, 0.5658782958857838, 0.6648080471325317, 0.9652484334695565, 0.16587714645974172, 0.846793140750501, 0.7137999618004922, 0.33991693725380745, -0.22601668604749559, -0.6820051094840315, -0.7492931434042577, 0.5597883867031277, -0.7317313892095677, -0.5841337417312028, 0.7944827361467713, 0.15741407848972322, -0.972032220489448, 0.3985292794260812, 0.4271876904085254, 0.7703344595113423, 0.7737773006097455, -0.3961656940420054, 0.368861791005872, 0.3563693777227168, -0.26109294259744764, -0.6695813717042164, -0.4507639955861821, 0.33668435858185364, -0.9897222943548148, 0.380889532761044, 0.5602434826366615, 0.29518857100411333, 0.20656135093424755, 0.9291371386569006, 0.8481589910862766, 0.9615884064108792, -0.3291042234500904, 0.6372305364645263, 0.47093099121745596, 0.7487174878310416, 0.44638182957427314, 0.9319178627797471, -0.10348111309661545, 0.8914090062631361, -0.7909029771583497, -0.7018857608988288, -0.6150452844146718, -0.44613582220995773, -0.6271899882243498, -0.7751813525172507, 0.2884088414761157, -0.9157981409590586, 0.17355503770850744, -0.32306054200167666, 0.1813153634101723, 0.10491779460070594, -0.10256270637292941, 0.30487119412392905, 0.5353354190041203, 0.9390863063882411, 0.6804163788081352, -0.24647200121815127, 0.6338714250144186, 0.26616276672835326, 0.19079431843066974, 0.9221116642148319, -0.3471922009546299, -0.24137642538209192, -0.6742395318026212, 0.6155856048215083, -0.14452749627219263, 0.31572248125578406, 0.7905455527569674, 0.7902728553000006, -0.25543843860623416, -0.7076789932200857, -0.5658073374251028, 0.4892148364242684, 0.2988368181240624, 0.62224130387864, 0.9688132413914102]\n"
          ]
        }
      ]
    },
    {
      "cell_type": "markdown",
      "source": [
        "# Client Side\n",
        "\n",
        "***RECEIVED OBFUSCATED ENCRYPTED INTERMEDIATE RESULT WITH SOME ADDTIONAL DATA FROM SERVER***\n",
        "\n",
        "Client decrypt all of them with secret key and send the signed(sign function) version to server.\n",
        "\n",
        "Idealy, client will only be able to fake the data if client guessed the combinations and random value of all the addtional data correctly."
      ],
      "metadata": {
        "id": "jkkd7w7kdO0T"
      }
    },
    {
      "cell_type": "code",
      "source": [
        "decrypted_message = []\n",
        "signed_decrypted_message = []\n",
        "for cyphertext in message:\n",
        "  decrypted_float = ctxt2float(cyphertext)\n",
        "  decrypted_message.append(decrypted_float)\n",
        "  signed_decrypted_message.append(1 if decrypted_float>0 else -1)\n",
        "\n",
        "print(decrypted_message)\n",
        "print(signed_decrypted_message)\n",
        "# signed_decrypted_message[0] = 1"
      ],
      "metadata": {
        "colab": {
          "base_uri": "https://localhost:8080/"
        },
        "id": "wFOXddArdQmB",
        "outputId": "caee5c5d-3b7a-4980-b3f9-9e1c874cec90"
      },
      "execution_count": null,
      "outputs": [
        {
          "output_type": "stream",
          "name": "stdout",
          "text": [
            "[-0.872198333796081, 0.4591387939512981, 14.2925891679828, -53.45007291647742, -8.361247900515993, -1381.8762338246913, -0.570284943008293, -4.630309820840839, -44.53597430737135, 7.5766963855284395, -571.6874963448322, -0.33069626200078484, 0.9681753698568781, 39.98186412071772, 51.60404680620102, 0.19728921107584443, -15.051112490102167, 6.787807710473199, 0.8987352364161556, -0.7798378127828842, -16.341512582448527, -58.510957341182255, -0.7109732029293873, -9.436125918313842, -18.100794822355105, -28.251682155593414, -511.2767162540637, 0.21023743461115796, 18.002503801649755, 41.409127083995884, -0.2998292957775682, -0.1026556280832685, 12.68691502581225, 0.9345933577267389, 16.866491168272006, 18.00300108808639, -65.85414841054731, 9.530010351794672, 0.5568642309781339, -16.278463167362087, 11.59310571216402, -11.660395901023389, 19.011121575281773, -18.582327106189947, 0.7151588141698548, -16.39178674717831, -1018.537728307921, -0.4415238589570059, 0.7122932780086498, -25.39993280799205, -32.00320909484515, -614.1732945675863, 0.5658782969709313, 930.7312744096187, 19.304968755349748, 0.1658771467802178, 59.27551996639813, 999.3199536459758, 0.3399169379071287, -0.22601668648264572, -47.74035800428441, -1049.0104054370493, 0.5597883891958577, -51.221197472754014, -0.5841337428532132, 15.88965479368773, 11.018985543343135, -1360.8451183886436, 7.970585624016575, 0.4271876912292353, 1078.4682510057526, 15.475546041920754, -0.3961656958065537, 7.377235852967138, 24.94585655167863, -365.53012126404815, -0.6695813746861796, -9.015279976004827, 471.3581062808492, -1385.6112219767795, 7.617790669853516, 11.204869732624816, 20.663200062302074, 14.459294629784145, 1300.792003394963, 16.96317994267429, 19.231768265341785, -23.03729574409042, 0.6372305376885405, 0.47093099212260475, 0.748717489269811, 31.246728130222078, 1304.685013701217, -7.243677968408601, 17.82818015950605, -55.3632086475959, -14.037715318067363, -43.053170100726774, -0.4461358241970938, -0.627189989429161, -15.503627119382157, 20.188618993219706, -18.31596294977718, 242.9770549910329, -452.284762895963, 3.6263072843504824, 0.1049177948015738, -143.58778994600686, 426.819674816845, 10.706708427756821, 0.9390863081918064, 952.5829371237298, -4.929440046312272, 44.370999948596236, 5.323255358269959, 0.19079431879696152, 64.54781678246766, -24.303454175051066, -4.827528516914696, -0.6742395330974509, 861.8198528953128, -2.8905499383139737, 0.31572248266360725, 55.338188939404354, 55.31910011731847, -5.1087687948735425, -14.153579891587718, -0.5658073399438552, 9.784296747278752, 418.3715483568843, 43.55689158207443, 0.968813243251724]\n",
            "[-1, 1, 1, -1, -1, -1, -1, -1, -1, 1, -1, -1, 1, 1, 1, 1, -1, 1, 1, -1, -1, -1, -1, -1, -1, -1, -1, 1, 1, 1, -1, -1, 1, 1, 1, 1, -1, 1, 1, -1, 1, -1, 1, -1, 1, -1, -1, -1, 1, -1, -1, -1, 1, 1, 1, 1, 1, 1, 1, -1, -1, -1, 1, -1, -1, 1, 1, -1, 1, 1, 1, 1, -1, 1, 1, -1, -1, -1, 1, -1, 1, 1, 1, 1, 1, 1, 1, -1, 1, 1, 1, 1, 1, -1, 1, -1, -1, -1, -1, -1, -1, 1, -1, 1, -1, 1, 1, -1, 1, 1, 1, 1, -1, 1, 1, 1, 1, -1, -1, -1, 1, -1, 1, 1, 1, -1, -1, -1, 1, 1, 1, 1]\n"
          ]
        }
      ]
    },
    {
      "cell_type": "markdown",
      "source": [
        "# Server Side (Result)\n",
        "***RECEIVED SIGNED(SIGN FUNCTION) PLAINTEXT INTERMEDIATE RESULT***\n",
        "\n",
        "Server first check the integrity of the data from client with \"the additional data\" (make sure client didn't fake it).\n",
        "\n",
        "If the data is correct, server then can check whether client is inside the geofence or not."
      ],
      "metadata": {
        "id": "tqbg5-PB60l5"
      }
    },
    {
      "cell_type": "code",
      "source": [
        "for i in range(len(signed_decrypted_message)):\n",
        "  assert(signed_decrypted_message[i]==1 or signed_decrypted_message[i]==-1)\n",
        "\n",
        "decrypted_abcd = []\n",
        "for i in range(4):\n",
        "  if message_random_value[i]>0:\n",
        "    decrypted_abcd.append(signed_decrypted_message[i])\n",
        "  else:\n",
        "    decrypted_abcd.append(-signed_decrypted_message[i])\n",
        "\n",
        "print(decrypted_abcd)\n",
        "\n",
        "decrypted_combinations = []\n",
        "for i in range(16):\n",
        "  current_decrypted_combination = 1\n",
        "  for j in range(3, -1, -1):\n",
        "    if (i>>j)&1:\n",
        "      current_decrypted_combination *= decrypted_abcd[3-j]\n",
        "  decrypted_combinations.append(current_decrypted_combination)\n",
        "print(decrypted_combinations)\n",
        "\n",
        "for i in range(4, len(signed_decrypted_message)):\n",
        "  # print(decrypted_combinations[message_combination[i]] * message_random_value[i] * signed_decrypted_message[i])\n",
        "  # print(message_random_value[i])\n",
        "  # print(signed_decrypted_message[i])\n",
        "  # print(decrypted_message[i])\n",
        "  # print(message_combination[i])\n",
        "\n",
        "  assert decrypted_combinations[message_combination[i]] * message_random_value[i] * signed_decrypted_message[i] > 0, \"client modified the data or location too near the edge\"\n",
        "print(\"We can assume the client didn't fake the data.\")\n",
        "\n",
        "if decrypted_abcd[0]==decrypted_abcd[1]==-1 or decrypted_abcd[2]==decrypted_abcd[3]==-1:\n",
        "  print(\"Not possible in real world, something went wrong\")\n",
        "elif decrypted_abcd[0]==decrypted_abcd[1]==decrypted_abcd[2]==decrypted_abcd[1]==1:\n",
        "  print(\"Client in geofence, Location verified. Service granted.\")\n",
        "else:\n",
        "  print(\"Client not in geofence. Location not verified. Service denied.\")\n"
      ],
      "metadata": {
        "colab": {
          "base_uri": "https://localhost:8080/"
        },
        "id": "gDXcI-_D6z93",
        "outputId": "6bc0d384-bde0-42c2-a618-35204545a13c"
      },
      "execution_count": null,
      "outputs": [
        {
          "output_type": "stream",
          "name": "stdout",
          "text": [
            "[1, 1, 1, 1]\n",
            "[1, 1, 1, 1, 1, 1, 1, 1, 1, 1, 1, 1, 1, 1, 1, 1]\n",
            "We can assume the client didn't fake the data.\n",
            "Client in geofence, Location verified. Service granted.\n"
          ]
        }
      ]
    }
  ]
}